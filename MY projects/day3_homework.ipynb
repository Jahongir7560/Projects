{
 "cells": [
  {
   "cell_type": "markdown",
   "metadata": {},
   "source": [
    "# LOAN DATASETS 2024. o'tilgan metodlarni qo'llanishi!!!"
   ]
  },
  {
   "cell_type": "code",
   "execution_count": 2,
   "metadata": {},
   "outputs": [
    {
     "data": {
      "text/html": [
       "<div>\n",
       "<style scoped>\n",
       "    .dataframe tbody tr th:only-of-type {\n",
       "        vertical-align: middle;\n",
       "    }\n",
       "\n",
       "    .dataframe tbody tr th {\n",
       "        vertical-align: top;\n",
       "    }\n",
       "\n",
       "    .dataframe thead th {\n",
       "        text-align: right;\n",
       "    }\n",
       "</style>\n",
       "<table border=\"1\" class=\"dataframe\">\n",
       "  <thead>\n",
       "    <tr style=\"text-align: right;\">\n",
       "      <th></th>\n",
       "      <th>customer_id</th>\n",
       "      <th>customer_age</th>\n",
       "      <th>customer_income</th>\n",
       "      <th>home_ownership</th>\n",
       "      <th>employment_duration</th>\n",
       "      <th>loan_intent</th>\n",
       "      <th>loan_grade</th>\n",
       "      <th>loan_amnt</th>\n",
       "      <th>loan_int_rate</th>\n",
       "      <th>term_years</th>\n",
       "      <th>historical_default</th>\n",
       "      <th>cred_hist_length</th>\n",
       "      <th>Current_loan_status</th>\n",
       "    </tr>\n",
       "  </thead>\n",
       "  <tbody>\n",
       "    <tr>\n",
       "      <th>0</th>\n",
       "      <td>1.0</td>\n",
       "      <td>22</td>\n",
       "      <td>59000</td>\n",
       "      <td>RENT</td>\n",
       "      <td>123.0</td>\n",
       "      <td>PERSONAL</td>\n",
       "      <td>C</td>\n",
       "      <td>£35,000.00</td>\n",
       "      <td>16.02</td>\n",
       "      <td>10</td>\n",
       "      <td>Y</td>\n",
       "      <td>3</td>\n",
       "      <td>DEFAULT</td>\n",
       "    </tr>\n",
       "    <tr>\n",
       "      <th>1</th>\n",
       "      <td>2.0</td>\n",
       "      <td>21</td>\n",
       "      <td>9600</td>\n",
       "      <td>OWN</td>\n",
       "      <td>5.0</td>\n",
       "      <td>EDUCATION</td>\n",
       "      <td>A</td>\n",
       "      <td>£1,000.00</td>\n",
       "      <td>11.14</td>\n",
       "      <td>1</td>\n",
       "      <td>NaN</td>\n",
       "      <td>2</td>\n",
       "      <td>NO DEFAULT</td>\n",
       "    </tr>\n",
       "    <tr>\n",
       "      <th>2</th>\n",
       "      <td>3.0</td>\n",
       "      <td>25</td>\n",
       "      <td>9600</td>\n",
       "      <td>MORTGAGE</td>\n",
       "      <td>1.0</td>\n",
       "      <td>MEDICAL</td>\n",
       "      <td>B</td>\n",
       "      <td>£5,500.00</td>\n",
       "      <td>12.87</td>\n",
       "      <td>5</td>\n",
       "      <td>N</td>\n",
       "      <td>3</td>\n",
       "      <td>DEFAULT</td>\n",
       "    </tr>\n",
       "    <tr>\n",
       "      <th>3</th>\n",
       "      <td>4.0</td>\n",
       "      <td>23</td>\n",
       "      <td>65500</td>\n",
       "      <td>RENT</td>\n",
       "      <td>4.0</td>\n",
       "      <td>MEDICAL</td>\n",
       "      <td>B</td>\n",
       "      <td>£35,000.00</td>\n",
       "      <td>15.23</td>\n",
       "      <td>10</td>\n",
       "      <td>N</td>\n",
       "      <td>2</td>\n",
       "      <td>DEFAULT</td>\n",
       "    </tr>\n",
       "    <tr>\n",
       "      <th>4</th>\n",
       "      <td>5.0</td>\n",
       "      <td>24</td>\n",
       "      <td>54400</td>\n",
       "      <td>RENT</td>\n",
       "      <td>8.0</td>\n",
       "      <td>MEDICAL</td>\n",
       "      <td>B</td>\n",
       "      <td>£35,000.00</td>\n",
       "      <td>14.27</td>\n",
       "      <td>10</td>\n",
       "      <td>Y</td>\n",
       "      <td>4</td>\n",
       "      <td>DEFAULT</td>\n",
       "    </tr>\n",
       "  </tbody>\n",
       "</table>\n",
       "</div>"
      ],
      "text/plain": [
       "   customer_id  customer_age customer_income home_ownership  \\\n",
       "0          1.0            22           59000           RENT   \n",
       "1          2.0            21            9600            OWN   \n",
       "2          3.0            25            9600       MORTGAGE   \n",
       "3          4.0            23           65500           RENT   \n",
       "4          5.0            24           54400           RENT   \n",
       "\n",
       "   employment_duration loan_intent loan_grade   loan_amnt  loan_int_rate  \\\n",
       "0                123.0    PERSONAL          C  £35,000.00          16.02   \n",
       "1                  5.0   EDUCATION          A   £1,000.00          11.14   \n",
       "2                  1.0     MEDICAL          B   £5,500.00          12.87   \n",
       "3                  4.0     MEDICAL          B  £35,000.00          15.23   \n",
       "4                  8.0     MEDICAL          B  £35,000.00          14.27   \n",
       "\n",
       "   term_years historical_default  cred_hist_length Current_loan_status  \n",
       "0          10                  Y                 3             DEFAULT  \n",
       "1           1                NaN                 2          NO DEFAULT  \n",
       "2           5                  N                 3             DEFAULT  \n",
       "3          10                  N                 2             DEFAULT  \n",
       "4          10                  Y                 4             DEFAULT  "
      ]
     },
     "execution_count": 2,
     "metadata": {},
     "output_type": "execute_result"
    }
   ],
   "source": [
    "import pandas as pd\n",
    "df=pd.read_csv(\"loan_datasets.csv\")\n",
    "df.head()"
   ]
  },
  {
   "cell_type": "markdown",
   "metadata": {},
   "source": [
    "## numerical data"
   ]
  },
  {
   "cell_type": "markdown",
   "metadata": {},
   "source": [
    "### mean()---> metodi o'rta qiymatini chiqarish"
   ]
  },
  {
   "cell_type": "markdown",
   "metadata": {},
   "source": [
    "haridorlar yoshining o'rta qiymati:"
   ]
  },
  {
   "cell_type": "code",
   "execution_count": 3,
   "metadata": {},
   "outputs": [
    {
     "data": {
      "text/plain": [
       "np.float64(27.732768673663536)"
      ]
     },
     "execution_count": 3,
     "metadata": {},
     "output_type": "execute_result"
    }
   ],
   "source": [
    "df[\"customer_age\"].mean()"
   ]
  },
  {
   "cell_type": "markdown",
   "metadata": {},
   "source": [
    "### sum()---> metodi umumiy summani hisoblash"
   ]
  },
  {
   "cell_type": "markdown",
   "metadata": {},
   "source": [
    "customer age bo'yicha umumiy summa"
   ]
  },
  {
   "cell_type": "code",
   "execution_count": 7,
   "metadata": {},
   "outputs": [
    {
     "data": {
      "text/plain": [
       "np.int64(903700)"
      ]
     },
     "execution_count": 7,
     "metadata": {},
     "output_type": "execute_result"
    }
   ],
   "source": [
    "df[\"customer_age\"].sum()"
   ]
  },
  {
   "cell_type": "markdown",
   "metadata": {},
   "source": [
    "### max()--->metodi berilgan column dagi max qiymatni topib beradi"
   ]
  },
  {
   "cell_type": "markdown",
   "metadata": {},
   "source": [
    "eng keksa xaridorni topish"
   ]
  },
  {
   "cell_type": "code",
   "execution_count": 8,
   "metadata": {},
   "outputs": [
    {
     "data": {
      "text/plain": [
       "np.int64(144)"
      ]
     },
     "execution_count": 8,
     "metadata": {},
     "output_type": "execute_result"
    }
   ],
   "source": [
    "df[\"customer_age\"].max()"
   ]
  },
  {
   "cell_type": "markdown",
   "metadata": {},
   "source": [
    "## AGG()---> metodi yordamida har bir ustun uchun turli xil aggregat funksiyalarni qo'llash mumkin"
   ]
  },
  {
   "cell_type": "code",
   "execution_count": 15,
   "metadata": {},
   "outputs": [
    {
     "name": "stderr",
     "output_type": "stream",
     "text": [
      "C:\\Users\\HP Victus\\AppData\\Local\\Temp\\ipykernel_8908\\3536796357.py:1: FutureWarning: The provided callable <built-in function min> is currently using Series.min. In a future version of pandas, the provided callable will be used directly. To keep current behavior pass the string \"min\" instead.\n",
      "  df[\"customer_income\"].agg(min)\n"
     ]
    },
    {
     "data": {
      "text/plain": [
       "'10000'"
      ]
     },
     "execution_count": 15,
     "metadata": {},
     "output_type": "execute_result"
    }
   ],
   "source": [
    "df[\"customer_income\"].agg(min)"
   ]
  },
  {
   "cell_type": "markdown",
   "metadata": {},
   "source": [
    "## CUMSUM()--->metodi har bir elementdan oldingi barcha elementlarning summasini hisoblab beradi"
   ]
  },
  {
   "cell_type": "code",
   "execution_count": 16,
   "metadata": {},
   "outputs": [
    {
     "data": {
      "text/plain": [
       "0            10\n",
       "1            11\n",
       "2            16\n",
       "3            26\n",
       "4            36\n",
       "          ...  \n",
       "32581    155145\n",
       "32582    155149\n",
       "32583    155154\n",
       "32584    155160\n",
       "32585    155166\n",
       "Name: term_years, Length: 32586, dtype: int64"
      ]
     },
     "execution_count": 16,
     "metadata": {},
     "output_type": "execute_result"
    }
   ],
   "source": [
    "df[\"term_years\"].cumsum()"
   ]
  },
  {
   "cell_type": "markdown",
   "metadata": {},
   "source": [
    "## DROP_DUPLICATES--->metodi duplicate datalarni o'chirishda ishlatiladi"
   ]
  },
  {
   "cell_type": "markdown",
   "metadata": {},
   "source": [
    "loan_intent yani kreditni olish niyati ustunidagi xaridorlarni drop_duplicates bo'yicha saralash"
   ]
  },
  {
   "cell_type": "code",
   "execution_count": 11,
   "metadata": {},
   "outputs": [
    {
     "data": {
      "text/html": [
       "<div>\n",
       "<style scoped>\n",
       "    .dataframe tbody tr th:only-of-type {\n",
       "        vertical-align: middle;\n",
       "    }\n",
       "\n",
       "    .dataframe tbody tr th {\n",
       "        vertical-align: top;\n",
       "    }\n",
       "\n",
       "    .dataframe thead th {\n",
       "        text-align: right;\n",
       "    }\n",
       "</style>\n",
       "<table border=\"1\" class=\"dataframe\">\n",
       "  <thead>\n",
       "    <tr style=\"text-align: right;\">\n",
       "      <th></th>\n",
       "      <th>customer_id</th>\n",
       "      <th>customer_age</th>\n",
       "      <th>customer_income</th>\n",
       "      <th>home_ownership</th>\n",
       "      <th>employment_duration</th>\n",
       "      <th>loan_intent</th>\n",
       "      <th>loan_grade</th>\n",
       "      <th>loan_amnt</th>\n",
       "      <th>loan_int_rate</th>\n",
       "      <th>term_years</th>\n",
       "      <th>historical_default</th>\n",
       "      <th>cred_hist_length</th>\n",
       "      <th>Current_loan_status</th>\n",
       "    </tr>\n",
       "  </thead>\n",
       "  <tbody>\n",
       "    <tr>\n",
       "      <th>0</th>\n",
       "      <td>1.0</td>\n",
       "      <td>22</td>\n",
       "      <td>59000</td>\n",
       "      <td>RENT</td>\n",
       "      <td>123.0</td>\n",
       "      <td>PERSONAL</td>\n",
       "      <td>C</td>\n",
       "      <td>£35,000.00</td>\n",
       "      <td>16.02</td>\n",
       "      <td>10</td>\n",
       "      <td>Y</td>\n",
       "      <td>3</td>\n",
       "      <td>DEFAULT</td>\n",
       "    </tr>\n",
       "    <tr>\n",
       "      <th>1</th>\n",
       "      <td>2.0</td>\n",
       "      <td>21</td>\n",
       "      <td>9600</td>\n",
       "      <td>OWN</td>\n",
       "      <td>5.0</td>\n",
       "      <td>EDUCATION</td>\n",
       "      <td>A</td>\n",
       "      <td>£1,000.00</td>\n",
       "      <td>11.14</td>\n",
       "      <td>1</td>\n",
       "      <td>NaN</td>\n",
       "      <td>2</td>\n",
       "      <td>NO DEFAULT</td>\n",
       "    </tr>\n",
       "    <tr>\n",
       "      <th>2</th>\n",
       "      <td>3.0</td>\n",
       "      <td>25</td>\n",
       "      <td>9600</td>\n",
       "      <td>MORTGAGE</td>\n",
       "      <td>1.0</td>\n",
       "      <td>MEDICAL</td>\n",
       "      <td>B</td>\n",
       "      <td>£5,500.00</td>\n",
       "      <td>12.87</td>\n",
       "      <td>5</td>\n",
       "      <td>N</td>\n",
       "      <td>3</td>\n",
       "      <td>DEFAULT</td>\n",
       "    </tr>\n",
       "    <tr>\n",
       "      <th>5</th>\n",
       "      <td>6.0</td>\n",
       "      <td>21</td>\n",
       "      <td>9900</td>\n",
       "      <td>OWN</td>\n",
       "      <td>2.0</td>\n",
       "      <td>VENTURE</td>\n",
       "      <td>A</td>\n",
       "      <td>£2,500.00</td>\n",
       "      <td>7.14</td>\n",
       "      <td>1</td>\n",
       "      <td>N</td>\n",
       "      <td>2</td>\n",
       "      <td>DEFAULT</td>\n",
       "    </tr>\n",
       "    <tr>\n",
       "      <th>11</th>\n",
       "      <td>12.0</td>\n",
       "      <td>21</td>\n",
       "      <td>10000</td>\n",
       "      <td>OWN</td>\n",
       "      <td>2.0</td>\n",
       "      <td>HOMEIMPROVEMENT</td>\n",
       "      <td>A</td>\n",
       "      <td>£4,500.00</td>\n",
       "      <td>8.63</td>\n",
       "      <td>1</td>\n",
       "      <td>N</td>\n",
       "      <td>2</td>\n",
       "      <td>DEFAULT</td>\n",
       "    </tr>\n",
       "    <tr>\n",
       "      <th>15</th>\n",
       "      <td>16.0</td>\n",
       "      <td>23</td>\n",
       "      <td>500000</td>\n",
       "      <td>MORTGAGE</td>\n",
       "      <td>7.0</td>\n",
       "      <td>DEBTCONSOLIDATION</td>\n",
       "      <td>A</td>\n",
       "      <td>£30,000.00</td>\n",
       "      <td>10.65</td>\n",
       "      <td>10</td>\n",
       "      <td>NaN</td>\n",
       "      <td>3</td>\n",
       "      <td>NO DEFAULT</td>\n",
       "    </tr>\n",
       "  </tbody>\n",
       "</table>\n",
       "</div>"
      ],
      "text/plain": [
       "    customer_id  customer_age customer_income home_ownership  \\\n",
       "0           1.0            22           59000           RENT   \n",
       "1           2.0            21            9600            OWN   \n",
       "2           3.0            25            9600       MORTGAGE   \n",
       "5           6.0            21            9900            OWN   \n",
       "11         12.0            21           10000            OWN   \n",
       "15         16.0            23          500000       MORTGAGE   \n",
       "\n",
       "    employment_duration        loan_intent loan_grade   loan_amnt  \\\n",
       "0                 123.0           PERSONAL          C  £35,000.00   \n",
       "1                   5.0          EDUCATION          A   £1,000.00   \n",
       "2                   1.0            MEDICAL          B   £5,500.00   \n",
       "5                   2.0            VENTURE          A   £2,500.00   \n",
       "11                  2.0    HOMEIMPROVEMENT          A   £4,500.00   \n",
       "15                  7.0  DEBTCONSOLIDATION          A  £30,000.00   \n",
       "\n",
       "    loan_int_rate  term_years historical_default  cred_hist_length  \\\n",
       "0           16.02          10                  Y                 3   \n",
       "1           11.14           1                NaN                 2   \n",
       "2           12.87           5                  N                 3   \n",
       "5            7.14           1                  N                 2   \n",
       "11           8.63           1                  N                 2   \n",
       "15          10.65          10                NaN                 3   \n",
       "\n",
       "   Current_loan_status  \n",
       "0              DEFAULT  \n",
       "1           NO DEFAULT  \n",
       "2              DEFAULT  \n",
       "5              DEFAULT  \n",
       "11             DEFAULT  \n",
       "15          NO DEFAULT  "
      ]
     },
     "execution_count": 11,
     "metadata": {},
     "output_type": "execute_result"
    }
   ],
   "source": [
    "df.drop_duplicates(\"loan_intent\")"
   ]
  },
  {
   "cell_type": "markdown",
   "metadata": {},
   "source": [
    "## .VALUE_COUNTS()---> metodi tanlangan columndagi bir xil datalarni nechtaligini aniqlab beradi"
   ]
  },
  {
   "cell_type": "markdown",
   "metadata": {},
   "source": [
    "kredit olish maqsadi bo'yicha sortlandi va qaysi maqsadda nechta xaridor borligi aniqlandi"
   ]
  },
  {
   "cell_type": "code",
   "execution_count": 14,
   "metadata": {},
   "outputs": [
    {
     "data": {
      "text/plain": [
       "loan_intent\n",
       "PERSONAL             5523\n",
       "EDUCATION            6454\n",
       "MEDICAL              6072\n",
       "VENTURE              5718\n",
       "HOMEIMPROVEMENT      3606\n",
       "DEBTCONSOLIDATION    5213\n",
       "Name: count, dtype: int64"
      ]
     },
     "execution_count": 14,
     "metadata": {},
     "output_type": "execute_result"
    }
   ],
   "source": [
    "df[\"loan_intent\"].value_counts(sort=False)"
   ]
  },
  {
   "cell_type": "markdown",
   "metadata": {},
   "source": [
    "## PROPORTIONS"
   ]
  },
  {
   "cell_type": "code",
   "execution_count": 15,
   "metadata": {},
   "outputs": [
    {
     "data": {
      "text/plain": [
       "home_ownership\n",
       "RENT        50.484871\n",
       "MORTGAGE    41.256982\n",
       "OWN          7.929786\n",
       "OTHER        0.328362\n",
       "Name: proportion, dtype: float64"
      ]
     },
     "execution_count": 15,
     "metadata": {},
     "output_type": "execute_result"
    }
   ],
   "source": [
    "df[\"home_ownership\"].value_counts(normalize=True)*100"
   ]
  },
  {
   "cell_type": "markdown",
   "metadata": {},
   "source": [
    "## Qiyin usulda gruhlash"
   ]
  },
  {
   "cell_type": "markdown",
   "metadata": {},
   "source": [
    "bu yerda ijarachilarni o'rtacha yoshi aniqlandi"
   ]
  },
  {
   "cell_type": "code",
   "execution_count": 3,
   "metadata": {},
   "outputs": [
    {
     "data": {
      "text/plain": [
       "np.float64(27.545802686766763)"
      ]
     },
     "execution_count": 3,
     "metadata": {},
     "output_type": "execute_result"
    }
   ],
   "source": [
    "df[df[\"home_ownership\"]==\"RENT\"][\"customer_age\"].mean()"
   ]
  },
  {
   "cell_type": "markdown",
   "metadata": {},
   "source": [
    "## GROUPBY---> metodi guruhlash uchun qo'llaniladi"
   ]
  },
  {
   "cell_type": "markdown",
   "metadata": {},
   "source": [
    "bu yerda loan intent bo'yicha guruhlab ularni o'rtacha yoshi aniqlandi"
   ]
  },
  {
   "cell_type": "code",
   "execution_count": 26,
   "metadata": {},
   "outputs": [
    {
     "data": {
      "text/plain": [
       "loan_intent\n",
       "DEBTCONSOLIDATION    27.603683\n",
       "EDUCATION            26.581345\n",
       "HOMEIMPROVEMENT      29.071547\n",
       "MEDICAL              27.998024\n",
       "PERSONAL             28.206047\n",
       "VENTURE              27.566981\n",
       "Name: customer_age, dtype: float64"
      ]
     },
     "execution_count": 26,
     "metadata": {},
     "output_type": "execute_result"
    }
   ],
   "source": [
    "df.groupby(\"loan_intent\")[\"customer_age\"].mean()"
   ]
  },
  {
   "cell_type": "markdown",
   "metadata": {},
   "source": [
    "# MULTIPLE SUMMARIES"
   ]
  },
  {
   "cell_type": "code",
   "execution_count": 4,
   "metadata": {},
   "outputs": [
    {
     "data": {
      "text/html": [
       "<div>\n",
       "<style scoped>\n",
       "    .dataframe tbody tr th:only-of-type {\n",
       "        vertical-align: middle;\n",
       "    }\n",
       "\n",
       "    .dataframe tbody tr th {\n",
       "        vertical-align: top;\n",
       "    }\n",
       "\n",
       "    .dataframe thead th {\n",
       "        text-align: right;\n",
       "    }\n",
       "</style>\n",
       "<table border=\"1\" class=\"dataframe\">\n",
       "  <thead>\n",
       "    <tr style=\"text-align: right;\">\n",
       "      <th></th>\n",
       "      <th>customer_id</th>\n",
       "      <th>customer_age</th>\n",
       "      <th>customer_income</th>\n",
       "      <th>home_ownership</th>\n",
       "      <th>employment_duration</th>\n",
       "      <th>loan_intent</th>\n",
       "      <th>loan_grade</th>\n",
       "      <th>loan_amnt</th>\n",
       "      <th>loan_int_rate</th>\n",
       "      <th>term_years</th>\n",
       "      <th>historical_default</th>\n",
       "      <th>cred_hist_length</th>\n",
       "      <th>Current_loan_status</th>\n",
       "    </tr>\n",
       "  </thead>\n",
       "  <tbody>\n",
       "    <tr>\n",
       "      <th>0</th>\n",
       "      <td>1.0</td>\n",
       "      <td>22</td>\n",
       "      <td>59000</td>\n",
       "      <td>RENT</td>\n",
       "      <td>123.0</td>\n",
       "      <td>PERSONAL</td>\n",
       "      <td>C</td>\n",
       "      <td>£35,000.00</td>\n",
       "      <td>16.02</td>\n",
       "      <td>10</td>\n",
       "      <td>Y</td>\n",
       "      <td>3</td>\n",
       "      <td>DEFAULT</td>\n",
       "    </tr>\n",
       "    <tr>\n",
       "      <th>1</th>\n",
       "      <td>2.0</td>\n",
       "      <td>21</td>\n",
       "      <td>9600</td>\n",
       "      <td>OWN</td>\n",
       "      <td>5.0</td>\n",
       "      <td>EDUCATION</td>\n",
       "      <td>A</td>\n",
       "      <td>£1,000.00</td>\n",
       "      <td>11.14</td>\n",
       "      <td>1</td>\n",
       "      <td>NaN</td>\n",
       "      <td>2</td>\n",
       "      <td>NO DEFAULT</td>\n",
       "    </tr>\n",
       "    <tr>\n",
       "      <th>2</th>\n",
       "      <td>3.0</td>\n",
       "      <td>25</td>\n",
       "      <td>9600</td>\n",
       "      <td>MORTGAGE</td>\n",
       "      <td>1.0</td>\n",
       "      <td>MEDICAL</td>\n",
       "      <td>B</td>\n",
       "      <td>£5,500.00</td>\n",
       "      <td>12.87</td>\n",
       "      <td>5</td>\n",
       "      <td>N</td>\n",
       "      <td>3</td>\n",
       "      <td>DEFAULT</td>\n",
       "    </tr>\n",
       "    <tr>\n",
       "      <th>3</th>\n",
       "      <td>4.0</td>\n",
       "      <td>23</td>\n",
       "      <td>65500</td>\n",
       "      <td>RENT</td>\n",
       "      <td>4.0</td>\n",
       "      <td>MEDICAL</td>\n",
       "      <td>B</td>\n",
       "      <td>£35,000.00</td>\n",
       "      <td>15.23</td>\n",
       "      <td>10</td>\n",
       "      <td>N</td>\n",
       "      <td>2</td>\n",
       "      <td>DEFAULT</td>\n",
       "    </tr>\n",
       "    <tr>\n",
       "      <th>4</th>\n",
       "      <td>5.0</td>\n",
       "      <td>24</td>\n",
       "      <td>54400</td>\n",
       "      <td>RENT</td>\n",
       "      <td>8.0</td>\n",
       "      <td>MEDICAL</td>\n",
       "      <td>B</td>\n",
       "      <td>£35,000.00</td>\n",
       "      <td>14.27</td>\n",
       "      <td>10</td>\n",
       "      <td>Y</td>\n",
       "      <td>4</td>\n",
       "      <td>DEFAULT</td>\n",
       "    </tr>\n",
       "  </tbody>\n",
       "</table>\n",
       "</div>"
      ],
      "text/plain": [
       "   customer_id  customer_age customer_income home_ownership  \\\n",
       "0          1.0            22           59000           RENT   \n",
       "1          2.0            21            9600            OWN   \n",
       "2          3.0            25            9600       MORTGAGE   \n",
       "3          4.0            23           65500           RENT   \n",
       "4          5.0            24           54400           RENT   \n",
       "\n",
       "   employment_duration loan_intent loan_grade   loan_amnt  loan_int_rate  \\\n",
       "0                123.0    PERSONAL          C  £35,000.00          16.02   \n",
       "1                  5.0   EDUCATION          A   £1,000.00          11.14   \n",
       "2                  1.0     MEDICAL          B   £5,500.00          12.87   \n",
       "3                  4.0     MEDICAL          B  £35,000.00          15.23   \n",
       "4                  8.0     MEDICAL          B  £35,000.00          14.27   \n",
       "\n",
       "   term_years historical_default  cred_hist_length Current_loan_status  \n",
       "0          10                  Y                 3             DEFAULT  \n",
       "1           1                NaN                 2          NO DEFAULT  \n",
       "2           5                  N                 3             DEFAULT  \n",
       "3          10                  N                 2             DEFAULT  \n",
       "4          10                  Y                 4             DEFAULT  "
      ]
     },
     "execution_count": 4,
     "metadata": {},
     "output_type": "execute_result"
    }
   ],
   "source": [
    "df.head()"
   ]
  },
  {
   "cell_type": "code",
   "execution_count": 42,
   "metadata": {},
   "outputs": [
    {
     "data": {
      "text/html": [
       "<div>\n",
       "<style scoped>\n",
       "    .dataframe tbody tr th:only-of-type {\n",
       "        vertical-align: middle;\n",
       "    }\n",
       "\n",
       "    .dataframe tbody tr th {\n",
       "        vertical-align: top;\n",
       "    }\n",
       "\n",
       "    .dataframe thead th {\n",
       "        text-align: right;\n",
       "    }\n",
       "</style>\n",
       "<table border=\"1\" class=\"dataframe\">\n",
       "  <thead>\n",
       "    <tr style=\"text-align: right;\">\n",
       "      <th></th>\n",
       "      <th>customer_id</th>\n",
       "      <th>customer_age</th>\n",
       "      <th>customer_income</th>\n",
       "      <th>home_ownership</th>\n",
       "      <th>employment_duration</th>\n",
       "      <th>loan_intent</th>\n",
       "      <th>loan_grade</th>\n",
       "      <th>loan_amnt</th>\n",
       "      <th>loan_int_rate</th>\n",
       "      <th>term_years</th>\n",
       "      <th>historical_default</th>\n",
       "      <th>cred_hist_length</th>\n",
       "      <th>Current_loan_status</th>\n",
       "      <th>newbirbolo</th>\n",
       "    </tr>\n",
       "  </thead>\n",
       "  <tbody>\n",
       "    <tr>\n",
       "      <th>0</th>\n",
       "      <td>1.0</td>\n",
       "      <td>22</td>\n",
       "      <td>59000</td>\n",
       "      <td>RENT</td>\n",
       "      <td>123.0</td>\n",
       "      <td>PERSONAL</td>\n",
       "      <td>C</td>\n",
       "      <td>35000.0</td>\n",
       "      <td>16.02</td>\n",
       "      <td>10</td>\n",
       "      <td>Y</td>\n",
       "      <td>3</td>\n",
       "      <td>DEFAULT</td>\n",
       "      <td>£35,000.00</td>\n",
       "    </tr>\n",
       "    <tr>\n",
       "      <th>1</th>\n",
       "      <td>2.0</td>\n",
       "      <td>21</td>\n",
       "      <td>9600</td>\n",
       "      <td>OWN</td>\n",
       "      <td>5.0</td>\n",
       "      <td>EDUCATION</td>\n",
       "      <td>A</td>\n",
       "      <td>1000.0</td>\n",
       "      <td>11.14</td>\n",
       "      <td>1</td>\n",
       "      <td>NaN</td>\n",
       "      <td>2</td>\n",
       "      <td>NO DEFAULT</td>\n",
       "      <td>£1,000.00</td>\n",
       "    </tr>\n",
       "    <tr>\n",
       "      <th>2</th>\n",
       "      <td>3.0</td>\n",
       "      <td>25</td>\n",
       "      <td>9600</td>\n",
       "      <td>MORTGAGE</td>\n",
       "      <td>1.0</td>\n",
       "      <td>MEDICAL</td>\n",
       "      <td>B</td>\n",
       "      <td>5500.0</td>\n",
       "      <td>12.87</td>\n",
       "      <td>5</td>\n",
       "      <td>N</td>\n",
       "      <td>3</td>\n",
       "      <td>DEFAULT</td>\n",
       "      <td>£5,500.00</td>\n",
       "    </tr>\n",
       "    <tr>\n",
       "      <th>3</th>\n",
       "      <td>4.0</td>\n",
       "      <td>23</td>\n",
       "      <td>65500</td>\n",
       "      <td>RENT</td>\n",
       "      <td>4.0</td>\n",
       "      <td>MEDICAL</td>\n",
       "      <td>B</td>\n",
       "      <td>35000.0</td>\n",
       "      <td>15.23</td>\n",
       "      <td>10</td>\n",
       "      <td>N</td>\n",
       "      <td>2</td>\n",
       "      <td>DEFAULT</td>\n",
       "      <td>£35,000.00</td>\n",
       "    </tr>\n",
       "    <tr>\n",
       "      <th>4</th>\n",
       "      <td>5.0</td>\n",
       "      <td>24</td>\n",
       "      <td>54400</td>\n",
       "      <td>RENT</td>\n",
       "      <td>8.0</td>\n",
       "      <td>MEDICAL</td>\n",
       "      <td>B</td>\n",
       "      <td>35000.0</td>\n",
       "      <td>14.27</td>\n",
       "      <td>10</td>\n",
       "      <td>Y</td>\n",
       "      <td>4</td>\n",
       "      <td>DEFAULT</td>\n",
       "      <td>£35,000.00</td>\n",
       "    </tr>\n",
       "  </tbody>\n",
       "</table>\n",
       "</div>"
      ],
      "text/plain": [
       "   customer_id  customer_age customer_income home_ownership  \\\n",
       "0          1.0            22           59000           RENT   \n",
       "1          2.0            21            9600            OWN   \n",
       "2          3.0            25            9600       MORTGAGE   \n",
       "3          4.0            23           65500           RENT   \n",
       "4          5.0            24           54400           RENT   \n",
       "\n",
       "   employment_duration loan_intent loan_grade  loan_amnt  loan_int_rate  \\\n",
       "0                123.0    PERSONAL          C    35000.0          16.02   \n",
       "1                  5.0   EDUCATION          A     1000.0          11.14   \n",
       "2                  1.0     MEDICAL          B     5500.0          12.87   \n",
       "3                  4.0     MEDICAL          B    35000.0          15.23   \n",
       "4                  8.0     MEDICAL          B    35000.0          14.27   \n",
       "\n",
       "   term_years historical_default  cred_hist_length Current_loan_status  \\\n",
       "0          10                  Y                 3             DEFAULT   \n",
       "1           1                NaN                 2          NO DEFAULT   \n",
       "2           5                  N                 3             DEFAULT   \n",
       "3          10                  N                 2             DEFAULT   \n",
       "4          10                  Y                 4             DEFAULT   \n",
       "\n",
       "   newbirbolo  \n",
       "0  £35,000.00  \n",
       "1   £1,000.00  \n",
       "2   £5,500.00  \n",
       "3  £35,000.00  \n",
       "4  £35,000.00  "
      ]
     },
     "execution_count": 42,
     "metadata": {},
     "output_type": "execute_result"
    }
   ],
   "source": [
    "df['loan_amnt'] = df['loan_amnt'].astype(str).str.replace('£', '').str.replace(',', '').astype(float)\n",
    "df.head()"
   ]
  },
  {
   "cell_type": "code",
   "execution_count": 9,
   "metadata": {},
   "outputs": [
    {
     "data": {
      "text/plain": [
       "home_ownership  loan_grade\n",
       "MORTGAGE        A             983\n",
       "                B             225\n",
       "                C             129\n",
       "                D              26\n",
       "                E               6\n",
       "OTHER           B               6\n",
       "                C               6\n",
       "                A               3\n",
       "OWN             A             202\n",
       "                B              46\n",
       "                C              36\n",
       "                E               2\n",
       "RENT            A             974\n",
       "                B             658\n",
       "                C             246\n",
       "                D              69\n",
       "                E              17\n",
       "Name: count, dtype: int64"
      ]
     },
     "execution_count": 9,
     "metadata": {},
     "output_type": "execute_result"
    }
   ],
   "source": [
    "df[df[\"customer_age\"]==22].groupby(\"home_ownership\")[\"loan_grade\"].value_counts()"
   ]
  },
  {
   "cell_type": "code",
   "execution_count": 11,
   "metadata": {},
   "outputs": [
    {
     "data": {
      "text/html": [
       "<div>\n",
       "<style scoped>\n",
       "    .dataframe tbody tr th:only-of-type {\n",
       "        vertical-align: middle;\n",
       "    }\n",
       "\n",
       "    .dataframe tbody tr th {\n",
       "        vertical-align: top;\n",
       "    }\n",
       "\n",
       "    .dataframe thead th {\n",
       "        text-align: right;\n",
       "    }\n",
       "</style>\n",
       "<table border=\"1\" class=\"dataframe\">\n",
       "  <thead>\n",
       "    <tr style=\"text-align: right;\">\n",
       "      <th></th>\n",
       "      <th>customer_id</th>\n",
       "      <th>customer_age</th>\n",
       "      <th>employment_duration</th>\n",
       "      <th>loan_int_rate</th>\n",
       "      <th>term_years</th>\n",
       "      <th>cred_hist_length</th>\n",
       "    </tr>\n",
       "  </thead>\n",
       "  <tbody>\n",
       "    <tr>\n",
       "      <th>count</th>\n",
       "      <td>15.000000</td>\n",
       "      <td>15.0</td>\n",
       "      <td>15.000000</td>\n",
       "      <td>14.000000</td>\n",
       "      <td>15.000000</td>\n",
       "      <td>15.000000</td>\n",
       "    </tr>\n",
       "    <tr>\n",
       "      <th>mean</th>\n",
       "      <td>11072.600000</td>\n",
       "      <td>20.0</td>\n",
       "      <td>3.333333</td>\n",
       "      <td>11.640714</td>\n",
       "      <td>2.400000</td>\n",
       "      <td>2.800000</td>\n",
       "    </tr>\n",
       "    <tr>\n",
       "      <th>std</th>\n",
       "      <td>4906.315446</td>\n",
       "      <td>0.0</td>\n",
       "      <td>1.234427</td>\n",
       "      <td>2.936938</td>\n",
       "      <td>1.549193</td>\n",
       "      <td>0.941124</td>\n",
       "    </tr>\n",
       "    <tr>\n",
       "      <th>min</th>\n",
       "      <td>1314.000000</td>\n",
       "      <td>20.0</td>\n",
       "      <td>0.000000</td>\n",
       "      <td>8.000000</td>\n",
       "      <td>2.000000</td>\n",
       "      <td>2.000000</td>\n",
       "    </tr>\n",
       "    <tr>\n",
       "      <th>25%</th>\n",
       "      <td>7538.500000</td>\n",
       "      <td>20.0</td>\n",
       "      <td>3.000000</td>\n",
       "      <td>8.940000</td>\n",
       "      <td>2.000000</td>\n",
       "      <td>2.000000</td>\n",
       "    </tr>\n",
       "    <tr>\n",
       "      <th>50%</th>\n",
       "      <td>11903.000000</td>\n",
       "      <td>20.0</td>\n",
       "      <td>4.000000</td>\n",
       "      <td>11.050000</td>\n",
       "      <td>2.000000</td>\n",
       "      <td>2.000000</td>\n",
       "    </tr>\n",
       "    <tr>\n",
       "      <th>75%</th>\n",
       "      <td>15123.000000</td>\n",
       "      <td>20.0</td>\n",
       "      <td>4.000000</td>\n",
       "      <td>14.360000</td>\n",
       "      <td>2.000000</td>\n",
       "      <td>4.000000</td>\n",
       "    </tr>\n",
       "    <tr>\n",
       "      <th>max</th>\n",
       "      <td>17197.000000</td>\n",
       "      <td>20.0</td>\n",
       "      <td>4.000000</td>\n",
       "      <td>16.020000</td>\n",
       "      <td>8.000000</td>\n",
       "      <td>4.000000</td>\n",
       "    </tr>\n",
       "  </tbody>\n",
       "</table>\n",
       "</div>"
      ],
      "text/plain": [
       "        customer_id  customer_age  employment_duration  loan_int_rate  \\\n",
       "count     15.000000          15.0            15.000000      14.000000   \n",
       "mean   11072.600000          20.0             3.333333      11.640714   \n",
       "std     4906.315446           0.0             1.234427       2.936938   \n",
       "min     1314.000000          20.0             0.000000       8.000000   \n",
       "25%     7538.500000          20.0             3.000000       8.940000   \n",
       "50%    11903.000000          20.0             4.000000      11.050000   \n",
       "75%    15123.000000          20.0             4.000000      14.360000   \n",
       "max    17197.000000          20.0             4.000000      16.020000   \n",
       "\n",
       "       term_years  cred_hist_length  \n",
       "count   15.000000         15.000000  \n",
       "mean     2.400000          2.800000  \n",
       "std      1.549193          0.941124  \n",
       "min      2.000000          2.000000  \n",
       "25%      2.000000          2.000000  \n",
       "50%      2.000000          2.000000  \n",
       "75%      2.000000          4.000000  \n",
       "max      8.000000          4.000000  "
      ]
     },
     "execution_count": 11,
     "metadata": {},
     "output_type": "execute_result"
    }
   ],
   "source": [
    "df[df[\"customer_age\"]==20].describe()"
   ]
  },
  {
   "cell_type": "markdown",
   "metadata": {},
   "source": [
    "# TYPE CHANGE"
   ]
  },
  {
   "cell_type": "code",
   "execution_count": 3,
   "metadata": {},
   "outputs": [
    {
     "data": {
      "text/html": [
       "<div>\n",
       "<style scoped>\n",
       "    .dataframe tbody tr th:only-of-type {\n",
       "        vertical-align: middle;\n",
       "    }\n",
       "\n",
       "    .dataframe tbody tr th {\n",
       "        vertical-align: top;\n",
       "    }\n",
       "\n",
       "    .dataframe thead th {\n",
       "        text-align: right;\n",
       "    }\n",
       "</style>\n",
       "<table border=\"1\" class=\"dataframe\">\n",
       "  <thead>\n",
       "    <tr style=\"text-align: right;\">\n",
       "      <th></th>\n",
       "      <th>customer_id</th>\n",
       "      <th>customer_age</th>\n",
       "      <th>customer_income</th>\n",
       "      <th>home_ownership</th>\n",
       "      <th>employment_duration</th>\n",
       "      <th>loan_intent</th>\n",
       "      <th>loan_grade</th>\n",
       "      <th>loan_amnt</th>\n",
       "      <th>loan_int_rate</th>\n",
       "      <th>term_years</th>\n",
       "      <th>historical_default</th>\n",
       "      <th>cred_hist_length</th>\n",
       "      <th>Current_loan_status</th>\n",
       "    </tr>\n",
       "  </thead>\n",
       "  <tbody>\n",
       "    <tr>\n",
       "      <th>0</th>\n",
       "      <td>1.0</td>\n",
       "      <td>22</td>\n",
       "      <td>59000</td>\n",
       "      <td>RENT</td>\n",
       "      <td>123.0</td>\n",
       "      <td>PERSONAL</td>\n",
       "      <td>C</td>\n",
       "      <td>35000.0</td>\n",
       "      <td>16.02</td>\n",
       "      <td>10</td>\n",
       "      <td>Y</td>\n",
       "      <td>3</td>\n",
       "      <td>DEFAULT</td>\n",
       "    </tr>\n",
       "    <tr>\n",
       "      <th>1</th>\n",
       "      <td>2.0</td>\n",
       "      <td>21</td>\n",
       "      <td>9600</td>\n",
       "      <td>OWN</td>\n",
       "      <td>5.0</td>\n",
       "      <td>EDUCATION</td>\n",
       "      <td>A</td>\n",
       "      <td>1000.0</td>\n",
       "      <td>11.14</td>\n",
       "      <td>1</td>\n",
       "      <td>NaN</td>\n",
       "      <td>2</td>\n",
       "      <td>NO DEFAULT</td>\n",
       "    </tr>\n",
       "    <tr>\n",
       "      <th>2</th>\n",
       "      <td>3.0</td>\n",
       "      <td>25</td>\n",
       "      <td>9600</td>\n",
       "      <td>MORTGAGE</td>\n",
       "      <td>1.0</td>\n",
       "      <td>MEDICAL</td>\n",
       "      <td>B</td>\n",
       "      <td>5500.0</td>\n",
       "      <td>12.87</td>\n",
       "      <td>5</td>\n",
       "      <td>N</td>\n",
       "      <td>3</td>\n",
       "      <td>DEFAULT</td>\n",
       "    </tr>\n",
       "    <tr>\n",
       "      <th>3</th>\n",
       "      <td>4.0</td>\n",
       "      <td>23</td>\n",
       "      <td>65500</td>\n",
       "      <td>RENT</td>\n",
       "      <td>4.0</td>\n",
       "      <td>MEDICAL</td>\n",
       "      <td>B</td>\n",
       "      <td>35000.0</td>\n",
       "      <td>15.23</td>\n",
       "      <td>10</td>\n",
       "      <td>N</td>\n",
       "      <td>2</td>\n",
       "      <td>DEFAULT</td>\n",
       "    </tr>\n",
       "    <tr>\n",
       "      <th>4</th>\n",
       "      <td>5.0</td>\n",
       "      <td>24</td>\n",
       "      <td>54400</td>\n",
       "      <td>RENT</td>\n",
       "      <td>8.0</td>\n",
       "      <td>MEDICAL</td>\n",
       "      <td>B</td>\n",
       "      <td>35000.0</td>\n",
       "      <td>14.27</td>\n",
       "      <td>10</td>\n",
       "      <td>Y</td>\n",
       "      <td>4</td>\n",
       "      <td>DEFAULT</td>\n",
       "    </tr>\n",
       "  </tbody>\n",
       "</table>\n",
       "</div>"
      ],
      "text/plain": [
       "   customer_id  customer_age customer_income home_ownership  \\\n",
       "0          1.0            22           59000           RENT   \n",
       "1          2.0            21            9600            OWN   \n",
       "2          3.0            25            9600       MORTGAGE   \n",
       "3          4.0            23           65500           RENT   \n",
       "4          5.0            24           54400           RENT   \n",
       "\n",
       "   employment_duration loan_intent loan_grade  loan_amnt  loan_int_rate  \\\n",
       "0                123.0    PERSONAL          C    35000.0          16.02   \n",
       "1                  5.0   EDUCATION          A     1000.0          11.14   \n",
       "2                  1.0     MEDICAL          B     5500.0          12.87   \n",
       "3                  4.0     MEDICAL          B    35000.0          15.23   \n",
       "4                  8.0     MEDICAL          B    35000.0          14.27   \n",
       "\n",
       "   term_years historical_default  cred_hist_length Current_loan_status  \n",
       "0          10                  Y                 3             DEFAULT  \n",
       "1           1                NaN                 2          NO DEFAULT  \n",
       "2           5                  N                 3             DEFAULT  \n",
       "3          10                  N                 2             DEFAULT  \n",
       "4          10                  Y                 4             DEFAULT  "
      ]
     },
     "execution_count": 3,
     "metadata": {},
     "output_type": "execute_result"
    }
   ],
   "source": [
    "df['loan_amnt'] = df['loan_amnt'].astype(str).str.replace('£', '').str.replace(',', '').astype(float)\n",
    "df.head()"
   ]
  }
 ],
 "metadata": {
  "kernelspec": {
   "display_name": "Python 3",
   "language": "python",
   "name": "python3"
  },
  "language_info": {
   "codemirror_mode": {
    "name": "ipython",
    "version": 3
   },
   "file_extension": ".py",
   "mimetype": "text/x-python",
   "name": "python",
   "nbconvert_exporter": "python",
   "pygments_lexer": "ipython3",
   "version": "3.12.2"
  }
 },
 "nbformat": 4,
 "nbformat_minor": 2
}
